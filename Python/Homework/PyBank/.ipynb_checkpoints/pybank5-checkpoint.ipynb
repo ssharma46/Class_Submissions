{
 "cells": [
  {
   "cell_type": "code",
   "execution_count": 82,
   "metadata": {},
   "outputs": [],
   "source": [
    "# Import dependencies\n",
    "import os\n",
    "import csv"
   ]
  },
  {
   "cell_type": "code",
   "execution_count": 83,
   "metadata": {},
   "outputs": [
    {
     "name": "stdout",
     "output_type": "stream",
     "text": [
      "../Homework/PyBank/budget_data.csv\n"
     ]
    }
   ],
   "source": [
    "#specify path for file\n",
    "budget_data = os.path.join(\"..\",\"Homework\",\"PyBank\",\"budget_data.csv\")\n",
    "print(budget_data)\n"
   ]
  },
  {
   "cell_type": "code",
   "execution_count": 84,
   "metadata": {},
   "outputs": [],
   "source": [
    "#Create variables for placeholders\n",
    "total_months = []\n",
    "net_profit = []\n",
    "monthly_change = []"
   ]
  },
  {
   "cell_type": "code",
   "execution_count": 85,
   "metadata": {},
   "outputs": [],
   "source": [
    "#Open and read CSV file\n",
    "with open(\"budget_data.csv\", newline = \"\") as csvfile:\n",
    "    reader = csv.reader(csvfile,delimiter =\",\")\n",
    "    \n",
    "    #Read header\n",
    "    header = next(reader)\n",
    "    \n",
    "    #Start initial loop for net profit and total total total months\n",
    "    for row in reader:\n",
    "\n",
    "        #Append net_profit and total_months to correct lists\n",
    "        total_months.append(row[0])\n",
    "        net_profit.append(int(row[1]))\n",
    "        \n",
    "    #Start loop to get profit change by month\n",
    "    for i in range(len(net_profit)-1):\n",
    "\n",
    "        #Find difference between every two months and append to monthly_change variable\n",
    "        monthly_change.append(net_profit[i+1]-net_profit[i])\n",
    "\n",
    "#Calculate average monthly change in profits\n",
    "Ave_Change = round((sum(monthly_change)/len(monthly_change)),2)"
   ]
  },
  {
   "cell_type": "code",
   "execution_count": 86,
   "metadata": {},
   "outputs": [],
   "source": [
    "#Find biggest increase and decrease in list of monthly_change\n",
    "max_increase = max(monthly_change)\n",
    "max_decrease = min(monthly_change)"
   ]
  },
  {
   "cell_type": "code",
   "execution_count": 87,
   "metadata": {},
   "outputs": [],
   "source": [
    "#Pull up corresponding dates for max increase and decrease\n",
    "max_increase_m = monthly_change.index(max(monthly_change)) + 1\n",
    "max_decrease_m = monthly_change.index(min(monthly_change)) - 1"
   ]
  },
  {
   "cell_type": "code",
   "execution_count": 88,
   "metadata": {},
   "outputs": [
    {
     "name": "stdout",
     "output_type": "stream",
     "text": [
      "Financial Analysis\n",
      "-----------------------------\n",
      "Total Months: 86\n",
      "Total:$38382578\n",
      "Average Change:$-2315.12\n",
      "Greatest Increase in Profits:Feb-2012($1926159)\n",
      "Greatest Decrease in Profits:Jul-2013($-2196167)\n"
     ]
    }
   ],
   "source": [
    "#Print Financial Analysis\n",
    "print(\"Financial Analysis\")\n",
    "print(\"-----------------------------\")\n",
    "print(f\"Total Months: {len(total_months)}\")\n",
    "print(f\"Total:${sum(net_profit)}\")\n",
    "print(f\"Average Change:${(Ave_Change)}\")\n",
    "print(f\"Greatest Increase in Profits:{total_months[max_increase_m]}(${(str(max_increase))})\")\n",
    "print(f\"Greatest Decrease in Profits:{total_months[max_decrease_m]}(${(str(max_decrease))})\")"
   ]
  },
  {
   "cell_type": "code",
   "execution_count": 89,
   "metadata": {},
   "outputs": [],
   "source": [
    "#Create output text file\n",
    "with open (\"bank_output.txt\", \"w\") as file:\n",
    "    file.write(\"Financial Analysis\\n\")\n",
    "    file.write(\"-----------------------------\\n\")\n",
    "    file.write(f\"Total Months: {len(total_months)}\\n\")\n",
    "    file.write(f\"Total:${sum(net_profit)}\\n\")\n",
    "    file.write(f\"Average Change:${(Ave_Change)}\\n\")\n",
    "    file.write(f\"Greatest Increase in Profits:{total_months[max_increase_m]}(${(str(max_increase))})\\n\")\n",
    "    file.write(f\"Greatest Decrease in Profits:{total_months[max_decrease_m]}(${(str(max_decrease))})\\n\")"
   ]
  },
  {
   "cell_type": "code",
   "execution_count": null,
   "metadata": {},
   "outputs": [],
   "source": []
  }
 ],
 "metadata": {
  "kernelspec": {
   "display_name": "PythonData",
   "language": "python",
   "name": "pythondata"
  },
  "language_info": {
   "codemirror_mode": {
    "name": "ipython",
    "version": 3
   },
   "file_extension": ".py",
   "mimetype": "text/x-python",
   "name": "python",
   "nbconvert_exporter": "python",
   "pygments_lexer": "ipython3",
   "version": "3.6.8"
  }
 },
 "nbformat": 4,
 "nbformat_minor": 2
}
