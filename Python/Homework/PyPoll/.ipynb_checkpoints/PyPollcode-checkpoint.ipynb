{
 "cells": [
  {
   "cell_type": "code",
   "execution_count": 1,
   "metadata": {},
   "outputs": [],
   "source": [
    "#import dependencies\n",
    "import os\n",
    "import csv"
   ]
  },
  {
   "cell_type": "code",
   "execution_count": 2,
   "metadata": {},
   "outputs": [],
   "source": [
    "#Path to collect data from Resources folder\n",
    "election_csv = os.path.join(\"..\",\"Homework\",\"PyPoll\",\"electiondata.csv\")\n"
   ]
  },
  {
   "cell_type": "code",
   "execution_count": 3,
   "metadata": {},
   "outputs": [],
   "source": [
    "# create variables\n",
    "candidate_names = []\n",
    "canvote_count = {}\n",
    "can_percentage = []\n",
    "totalvote_count = 0\n",
    "unique_names = []\n",
    "percentages = []\n",
    "win_count = 0\n",
    "winner = \"\""
   ]
  },
  {
   "cell_type": "code",
   "execution_count": 4,
   "metadata": {},
   "outputs": [],
   "source": [
    "#Read csv and convert into dictionaries\n",
    "with open(\"electiondata.csv\", newline='') as csvfile:\n",
    "    reader = csv.DictReader(csvfile)\n",
    "    \n",
    "    #Begin loop\n",
    "    for row in reader:\n",
    "        \n",
    "        #add to total number of votes\n",
    "        totalvote_count = totalvote_count + 1\n",
    "        \n",
    "        #Grab candidate name as you go through rows\n",
    "        unique_names = row[\"Candidate\"]\n",
    "        \n",
    "        #Create conditional statement if candidate name is different than those previous\n",
    "        if unique_names not in candidate_names:\n",
    "            \n",
    "            #Add to the existing list of candidates\n",
    "            candidate_names.append(unique_names)\n",
    "            \n",
    "            #Set candidate's corresponding vote counter to zero and track\n",
    "            canvote_count[unique_names] = 0\n",
    "            \n",
    "        #Add vote to individual candidate's count\n",
    "        canvote_count[unique_names] = canvote_count[unique_names] + 1"
   ]
  },
  {
   "cell_type": "code",
   "execution_count": 5,
   "metadata": {},
   "outputs": [
    {
     "name": "stdout",
     "output_type": "stream",
     "text": [
      "Election Results\n",
      "\n",
      "-------------------------------------\n",
      "Total Votes: 3521001\n",
      "-------------------------------------\n"
     ]
    }
   ],
   "source": [
    "#Print test\n",
    "print(\"Election Results\\n\")\n",
    "print(\"-------------------------------------\")\n",
    "print(f\"Total Votes: {totalvote_count}\")\n",
    "print(\"-------------------------------------\")"
   ]
  },
  {
   "cell_type": "code",
   "execution_count": 6,
   "metadata": {},
   "outputs": [],
   "source": [
    "#Create output text file\n",
    "with open (\"poll_output.txt\",\"w\") as file:\n",
    "    file.write(\"Election Results\\n\")\n",
    "    file.write(\"-------------------------------------\\n\")\n",
    "    file.write(f\"Total Votes: {totalvote_count}\\n\")\n",
    "    file.write(\"-------------------------------------\\n\")"
   ]
  },
  {
   "cell_type": "code",
   "execution_count": 7,
   "metadata": {},
   "outputs": [
    {
     "name": "stdout",
     "output_type": "stream",
     "text": [
      "Khan: 63.00% 2218231\n",
      "\n",
      "Correy: 20.00% 704200\n",
      "\n",
      "Li: 14.00% 492940\n",
      "\n",
      "O'Tooley: 3.00% 105630\n",
      "\n"
     ]
    }
   ],
   "source": [
    "    #Start loop to find winner and percentages\n",
    "    for unique_names in canvote_count:\n",
    "        \n",
    "        #Retrieve vote count and percentage\n",
    "        ind_vote = canvote_count.get(unique_names)\n",
    "        can_percentage = float(ind_vote)/float(totalvote_count) * 100\n",
    "        can_info = f\"{unique_names}: {can_percentage:.2f}% {ind_vote}\\n\"\n",
    "        \n",
    "        #Print candidate info (can_info)\n",
    "        print(can_info)\n",
    "      \n",
    "        #Open and append candidate info to text file\n",
    "        with open (\"poll_output.txt\",\"a\") as file:\n",
    "            file.write(can_info)\n",
    "        \n",
    "        #Determine winner based on votes\n",
    "        if(ind_vote > win_count):\n",
    "            win_count = ind_vote\n",
    "            winner = unique_names\n",
    "            \n",
    "        "
   ]
  },
  {
   "cell_type": "code",
   "execution_count": 8,
   "metadata": {},
   "outputs": [
    {
     "name": "stdout",
     "output_type": "stream",
     "text": [
      "-------------------------------------\n",
      "Winner: Khan\n",
      "-------------------------------------\n"
     ]
    }
   ],
   "source": [
    "#Print winner info\n",
    "print(\"-------------------------------------\")\n",
    "print(f\"Winner: {winner}\")\n",
    "print(\"-------------------------------------\")"
   ]
  },
  {
   "cell_type": "code",
   "execution_count": 9,
   "metadata": {},
   "outputs": [],
   "source": [
    "#Export winner info to text file\n",
    "with open (\"poll_output.txt\",\"a\") as file:\n",
    "    file.write(\"-------------------------------------\\n\")\n",
    "    file.write(f\"Winner: {winner}\\n\")\n",
    "    file.write(\"-------------------------------------\\n\")"
   ]
  }
 ],
 "metadata": {
  "kernelspec": {
   "display_name": "PythonData",
   "language": "python",
   "name": "pythondata"
  },
  "language_info": {
   "codemirror_mode": {
    "name": "ipython",
    "version": 3
   },
   "file_extension": ".py",
   "mimetype": "text/x-python",
   "name": "python",
   "nbconvert_exporter": "python",
   "pygments_lexer": "ipython3",
   "version": "3.6.8"
  }
 },
 "nbformat": 4,
 "nbformat_minor": 2
}
