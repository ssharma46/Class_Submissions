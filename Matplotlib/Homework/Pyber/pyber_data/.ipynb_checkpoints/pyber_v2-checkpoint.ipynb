{
 "cells": [
  {
   "cell_type": "code",
   "execution_count": 236,
   "metadata": {},
   "outputs": [
    {
     "data": {
      "text/html": [
       "<div>\n",
       "<style scoped>\n",
       "    .dataframe tbody tr th:only-of-type {\n",
       "        vertical-align: middle;\n",
       "    }\n",
       "\n",
       "    .dataframe tbody tr th {\n",
       "        vertical-align: top;\n",
       "    }\n",
       "\n",
       "    .dataframe thead th {\n",
       "        text-align: right;\n",
       "    }\n",
       "</style>\n",
       "<table border=\"1\" class=\"dataframe\">\n",
       "  <thead>\n",
       "    <tr style=\"text-align: right;\">\n",
       "      <th></th>\n",
       "      <th>city</th>\n",
       "      <th>driver_count</th>\n",
       "      <th>type</th>\n",
       "      <th>date</th>\n",
       "      <th>fare</th>\n",
       "      <th>ride_id</th>\n",
       "    </tr>\n",
       "  </thead>\n",
       "  <tbody>\n",
       "    <tr>\n",
       "      <th>0</th>\n",
       "      <td>Richardfort</td>\n",
       "      <td>38</td>\n",
       "      <td>Urban</td>\n",
       "      <td>2018-02-24 08:40:38</td>\n",
       "      <td>13.93</td>\n",
       "      <td>5628545007794</td>\n",
       "    </tr>\n",
       "    <tr>\n",
       "      <th>1</th>\n",
       "      <td>Richardfort</td>\n",
       "      <td>38</td>\n",
       "      <td>Urban</td>\n",
       "      <td>2018-02-13 12:46:07</td>\n",
       "      <td>14.00</td>\n",
       "      <td>910050116494</td>\n",
       "    </tr>\n",
       "    <tr>\n",
       "      <th>2</th>\n",
       "      <td>Richardfort</td>\n",
       "      <td>38</td>\n",
       "      <td>Urban</td>\n",
       "      <td>2018-02-16 13:52:19</td>\n",
       "      <td>17.92</td>\n",
       "      <td>820639054416</td>\n",
       "    </tr>\n",
       "    <tr>\n",
       "      <th>3</th>\n",
       "      <td>Richardfort</td>\n",
       "      <td>38</td>\n",
       "      <td>Urban</td>\n",
       "      <td>2018-02-01 20:18:28</td>\n",
       "      <td>10.26</td>\n",
       "      <td>9554935945413</td>\n",
       "    </tr>\n",
       "    <tr>\n",
       "      <th>4</th>\n",
       "      <td>Richardfort</td>\n",
       "      <td>38</td>\n",
       "      <td>Urban</td>\n",
       "      <td>2018-04-17 02:26:37</td>\n",
       "      <td>23.00</td>\n",
       "      <td>720020655850</td>\n",
       "    </tr>\n",
       "  </tbody>\n",
       "</table>\n",
       "</div>"
      ],
      "text/plain": [
       "          city  driver_count   type                 date   fare        ride_id\n",
       "0  Richardfort            38  Urban  2018-02-24 08:40:38  13.93  5628545007794\n",
       "1  Richardfort            38  Urban  2018-02-13 12:46:07  14.00   910050116494\n",
       "2  Richardfort            38  Urban  2018-02-16 13:52:19  17.92   820639054416\n",
       "3  Richardfort            38  Urban  2018-02-01 20:18:28  10.26  9554935945413\n",
       "4  Richardfort            38  Urban  2018-04-17 02:26:37  23.00   720020655850"
      ]
     },
     "execution_count": 236,
     "metadata": {},
     "output_type": "execute_result"
    }
   ],
   "source": [
    "%matplotlib inline\n",
    "# Dependencies and Setup\n",
    "import matplotlib.pyplot as plt\n",
    "import pandas as pd\n",
    "import numpy as np\n",
    "\n",
    "# File to Load (Remember to change these)\n",
    "city_data_csv = \"city_data.csv\"\n",
    "ride_data_csv = \"ride_data.csv\"\n",
    "\n",
    "# Read the City and Ride Data\n",
    "city_data = pd.read_csv(\"city_data.csv\")\n",
    "ride_data = pd.read_csv(\"ride_data.csv\")\n",
    "city_data.head()\n",
    "ride_data.head()\n",
    "\n",
    "# Combine the data into a single dataset merge on \"city\"\n",
    "city_ridedf = pd.merge(city_data, ride_data, on=\"city\")\n",
    "\n",
    "# Display the data table for preview\n",
    "city_ridedf.head()"
   ]
  },
  {
   "cell_type": "code",
   "execution_count": 237,
   "metadata": {
    "scrolled": true
   },
   "outputs": [
    {
     "data": {
      "text/html": [
       "<div>\n",
       "<style scoped>\n",
       "    .dataframe tbody tr th:only-of-type {\n",
       "        vertical-align: middle;\n",
       "    }\n",
       "\n",
       "    .dataframe tbody tr th {\n",
       "        vertical-align: top;\n",
       "    }\n",
       "\n",
       "    .dataframe thead th {\n",
       "        text-align: right;\n",
       "    }\n",
       "</style>\n",
       "<table border=\"1\" class=\"dataframe\">\n",
       "  <thead>\n",
       "    <tr style=\"text-align: right;\">\n",
       "      <th></th>\n",
       "      <th>city</th>\n",
       "      <th>fare</th>\n",
       "    </tr>\n",
       "    <tr>\n",
       "      <th>type</th>\n",
       "      <th></th>\n",
       "      <th></th>\n",
       "    </tr>\n",
       "  </thead>\n",
       "  <tbody>\n",
       "    <tr>\n",
       "      <th>Suburban</th>\n",
       "      <td>Barronchester</td>\n",
       "      <td>36.422500</td>\n",
       "    </tr>\n",
       "    <tr>\n",
       "      <th>Suburban</th>\n",
       "      <td>Bethanyland</td>\n",
       "      <td>32.956111</td>\n",
       "    </tr>\n",
       "    <tr>\n",
       "      <th>Suburban</th>\n",
       "      <td>Brandonfort</td>\n",
       "      <td>35.437368</td>\n",
       "    </tr>\n",
       "    <tr>\n",
       "      <th>Suburban</th>\n",
       "      <td>Colemanland</td>\n",
       "      <td>30.894545</td>\n",
       "    </tr>\n",
       "    <tr>\n",
       "      <th>Suburban</th>\n",
       "      <td>Davidfurt</td>\n",
       "      <td>31.995882</td>\n",
       "    </tr>\n",
       "  </tbody>\n",
       "</table>\n",
       "</div>"
      ],
      "text/plain": [
       "                   city       fare\n",
       "type                              \n",
       "Suburban  Barronchester  36.422500\n",
       "Suburban    Bethanyland  32.956111\n",
       "Suburban    Brandonfort  35.437368\n",
       "Suburban    Colemanland  30.894545\n",
       "Suburban      Davidfurt  31.995882"
      ]
     },
     "execution_count": 237,
     "metadata": {},
     "output_type": "execute_result"
    }
   ],
   "source": [
    "##Calculate Average Fare ($) per city\n",
    "\n",
    "#Create new DataFrame from city_ridedf grouped by city and type\n",
    "city_grouped = city_ridedf.groupby([\"city\",\"type\"])\n",
    "city_grouped.head()\n",
    "\n",
    "#Calculate Average Fare from city_grouped and create new df indexed by type\n",
    "ave_fare = city_grouped[\"fare\"].mean().reset_index()\n",
    "ave_fare.head()\n",
    "ave_fare_city_type = ave_fare.set_index(\"type\")\n",
    "ave_fare_city_type.head()\n",
    "\n",
    "#Calculate Average Fare from each city type\n",
    "ave_fare_urban = ave_fare_city_type.loc[\"Urban\"]\n",
    "ave_fare_urban.head()\n",
    "ave_fare_suburban = ave_fare_city_type.loc[\"Suburban\"]\n",
    "ave_fare_rural = ave_fare_city_type.loc[\"Rural\"]\n",
    "ave_fare_suburban.head()"
   ]
  },
  {
   "cell_type": "code",
   "execution_count": 238,
   "metadata": {},
   "outputs": [
    {
     "data": {
      "text/html": [
       "<div>\n",
       "<style scoped>\n",
       "    .dataframe tbody tr th:only-of-type {\n",
       "        vertical-align: middle;\n",
       "    }\n",
       "\n",
       "    .dataframe tbody tr th {\n",
       "        vertical-align: top;\n",
       "    }\n",
       "\n",
       "    .dataframe thead th {\n",
       "        text-align: right;\n",
       "    }\n",
       "</style>\n",
       "<table border=\"1\" class=\"dataframe\">\n",
       "  <thead>\n",
       "    <tr style=\"text-align: right;\">\n",
       "      <th></th>\n",
       "      <th>city</th>\n",
       "      <th>ride_id</th>\n",
       "    </tr>\n",
       "    <tr>\n",
       "      <th>type</th>\n",
       "      <th></th>\n",
       "      <th></th>\n",
       "    </tr>\n",
       "  </thead>\n",
       "  <tbody>\n",
       "    <tr>\n",
       "      <th>Rural</th>\n",
       "      <td>Bradshawfurt</td>\n",
       "      <td>10</td>\n",
       "    </tr>\n",
       "    <tr>\n",
       "      <th>Rural</th>\n",
       "      <td>Garzaport</td>\n",
       "      <td>3</td>\n",
       "    </tr>\n",
       "    <tr>\n",
       "      <th>Rural</th>\n",
       "      <td>Harringtonfort</td>\n",
       "      <td>6</td>\n",
       "    </tr>\n",
       "    <tr>\n",
       "      <th>Rural</th>\n",
       "      <td>Jessicaport</td>\n",
       "      <td>6</td>\n",
       "    </tr>\n",
       "    <tr>\n",
       "      <th>Rural</th>\n",
       "      <td>Lake Jamie</td>\n",
       "      <td>6</td>\n",
       "    </tr>\n",
       "  </tbody>\n",
       "</table>\n",
       "</div>"
      ],
      "text/plain": [
       "                 city  ride_id\n",
       "type                          \n",
       "Rural    Bradshawfurt       10\n",
       "Rural       Garzaport        3\n",
       "Rural  Harringtonfort        6\n",
       "Rural     Jessicaport        6\n",
       "Rural      Lake Jamie        6"
      ]
     },
     "execution_count": 238,
     "metadata": {},
     "output_type": "execute_result"
    }
   ],
   "source": [
    "##Calculate Total Number of Rides Per City\n",
    "\n",
    "#Create new DataFrame from city_grouped with ride count and index by type\n",
    "ride_count = city_grouped[\"ride_id\"].count().reset_index()\n",
    "ride_count_city_type = ride_count.set_index(\"type\")\n",
    "ride_count_city_type.head()\n",
    "\n",
    "#Calculate ride count from each city type\n",
    "ride_count_urban = ride_count_city_type.loc[\"Urban\"]\n",
    "ride_count_suburban = ride_count_city_type.loc[\"Suburban\"]\n",
    "ride_count_rural = ride_count_city_type.loc[\"Rural\"]\n",
    "ride_count_rural.head()"
   ]
  },
  {
   "cell_type": "code",
   "execution_count": 239,
   "metadata": {},
   "outputs": [
    {
     "data": {
      "text/html": [
       "<div>\n",
       "<style scoped>\n",
       "    .dataframe tbody tr th:only-of-type {\n",
       "        vertical-align: middle;\n",
       "    }\n",
       "\n",
       "    .dataframe tbody tr th {\n",
       "        vertical-align: top;\n",
       "    }\n",
       "\n",
       "    .dataframe thead th {\n",
       "        text-align: right;\n",
       "    }\n",
       "</style>\n",
       "<table border=\"1\" class=\"dataframe\">\n",
       "  <thead>\n",
       "    <tr style=\"text-align: right;\">\n",
       "      <th></th>\n",
       "      <th>city</th>\n",
       "      <th>driver_count</th>\n",
       "    </tr>\n",
       "    <tr>\n",
       "      <th>type</th>\n",
       "      <th></th>\n",
       "      <th></th>\n",
       "    </tr>\n",
       "  </thead>\n",
       "  <tbody>\n",
       "    <tr>\n",
       "      <th>Rural</th>\n",
       "      <td>South Jennifer</td>\n",
       "      <td>7</td>\n",
       "    </tr>\n",
       "    <tr>\n",
       "      <th>Rural</th>\n",
       "      <td>West Heather</td>\n",
       "      <td>4</td>\n",
       "    </tr>\n",
       "    <tr>\n",
       "      <th>Rural</th>\n",
       "      <td>Newtonview</td>\n",
       "      <td>1</td>\n",
       "    </tr>\n",
       "    <tr>\n",
       "      <th>Rural</th>\n",
       "      <td>North Holly</td>\n",
       "      <td>8</td>\n",
       "    </tr>\n",
       "    <tr>\n",
       "      <th>Rural</th>\n",
       "      <td>Michaelberg</td>\n",
       "      <td>6</td>\n",
       "    </tr>\n",
       "  </tbody>\n",
       "</table>\n",
       "</div>"
      ],
      "text/plain": [
       "                 city  driver_count\n",
       "type                               \n",
       "Rural  South Jennifer             7\n",
       "Rural    West Heather             4\n",
       "Rural      Newtonview             1\n",
       "Rural     North Holly             8\n",
       "Rural     Michaelberg             6"
      ]
     },
     "execution_count": 239,
     "metadata": {},
     "output_type": "execute_result"
    }
   ],
   "source": [
    "##Calculate Total Drivers by City\n",
    "\n",
    "#Create df from city_data with columns: city, driver_type and type\n",
    "driverdf = city_data[[\"city\", \"driver_count\", \"type\"]]\n",
    "driverdf.head()\n",
    "\n",
    "#Create df grouped and indexed by type from driverdf\n",
    "driver_city_type = driverdf.set_index(\"type\")\n",
    "driver_city_type.head()\n",
    "\n",
    "#Calculate driver totals from each city type\n",
    "driver_city_urban = driver_city_type.loc[\"Urban\"]\n",
    "driver_city_suburban = driver_city_type.loc[\"Suburban\"]\n",
    "driver_city_rural = driver_city_type.loc[\"Rural\"]\n",
    "driver_city_rural.head()"
   ]
  },
  {
   "cell_type": "markdown",
   "metadata": {},
   "source": [
    "## Bubble Plot of Ride Sharing Data"
   ]
  },
  {
   "cell_type": "code",
   "execution_count": 240,
   "metadata": {},
   "outputs": [
    {
     "data": {
      "image/png": "[encoded data removed]",
      "text/plain": [
       "<Figure size 432x288 with 1 Axes>"
      ]
     },
     "metadata": {
      "needs_background": "light"
     },
     "output_type": "display_data"
    }
   ],
   "source": [
    "##Obtain the x and y coordinates for each of the three city types\n",
    "#Urban\n",
    "x_urban = ride_count_urban[\"ride_id\"]\n",
    "y_urban = ave_fare_urban[\"fare\"]\n",
    "\n",
    "#Suburban\n",
    "x_suburban = ride_count_suburban[\"ride_id\"]\n",
    "y_suburban = ave_fare_suburban[\"fare\"]\n",
    "\n",
    "#Rural\n",
    "x_rural = ride_count_rural[\"ride_id\"]\n",
    "y_rural = ave_fare_rural[\"fare\"]\n",
    "\n",
    "## Build the scatter plots for each city types\n",
    "#Urban\n",
    "plt.scatter(x_urban, y_urban, s=driver_city_urban[\"driver_count\"]*10,alpha=.5,label=\"Urban\",marker=\"o\",edgecolors=\"black\",color=\"skyblue\")\n",
    "\n",
    "#Suburban\n",
    "plt.scatter(x_suburban, y_suburban, s=driver_city_suburban[\"driver_count\"]*10,alpha=.5,label=\"Suburban\",marker=\"o\",edgecolors=\"black\",color=\"coral\")\n",
    "\n",
    "#Rural\n",
    "plt.scatter(x_rural, y_rural, s=driver_city_rural[\"driver_count\"]*10,alpha=.5,label=\"Rural\",marker=\"o\",edgecolors=\"black\",color=\"gold\")\n",
    "\n",
    "# Create a legend\n",
    "plt.legend(loc=\"best\")\n",
    "plt.title(\"Pyber Ride Sharing Data (2016)\")\n",
    "plt.xlabel(\"Total Number of Rides (Per City)\")\n",
    "plt.ylabel(\"Average Fare ($)\")\n",
    "\n",
    "# Incorporate a text label regarding circle size\n",
    "plt.text(30,37,\"Note: Circle size correlates with driver count per city.\")\n",
    "# Save Figure\n",
    "plt.savefig(\"../pyber_data/RideSharingData.png\")"
   ]
  },
  {
   "cell_type": "code",
   "execution_count": 241,
   "metadata": {},
   "outputs": [],
   "source": [
    "# Show plot\n",
    "plt.show()"
   ]
  },
  {
   "cell_type": "markdown",
   "metadata": {},
   "source": [
    "## Total Fares by City Type"
   ]
  },
  {
   "cell_type": "code",
   "execution_count": 242,
   "metadata": {},
   "outputs": [
    {
     "data": {
      "image/png": "[encoded data removed]",
      "text/plain": [
       "<Figure size 432x288 with 1 Axes>"
      ]
     },
     "metadata": {},
     "output_type": "display_data"
    }
   ],
   "source": [
    "## Calculate Type Percents\n",
    "#Calculate total fares\n",
    "total_fares = city_ridedf[\"fare\"].sum()\n",
    "\n",
    "##Calculate percentage of total fares by city type\n",
    "city_types = city_ridedf.groupby(\"type\")\n",
    "fare_by_city_type = city_types.sum().reset_index()\n",
    "fare_by_city_type.head()\n",
    "indexed_type = fare_by_city_type.set_index(\"type\")\n",
    "#Calculate urban percentage\n",
    "fare_urban = indexed_type.loc[[\"Urban\"],[\"fare\"]]\n",
    "fare_urban_per = ((fare_urban[\"fare\"])/(total_fares)*100)\n",
    "\n",
    "#Calculate suburban percentage\n",
    "fare_suburban = indexed_type.loc[[\"Suburban\"],[\"fare\"]]\n",
    "fare_suburban_per =((fare_suburban[\"fare\"])/(total_fares)*100)\n",
    "\n",
    "#Calculate rural percentage\n",
    "fare_rural = indexed_type.loc[[\"Rural\"],[\"fare\"]]\n",
    "fare_rural_per = ((fare_rural[\"fare\"]/(total_fares)*100))\n",
    "fare_percents = 100 * city_ridedf.groupby([\"type\"]).sum()[\"fare\"] /city_ridedf[\"fare\"].sum()\n",
    "\n",
    "##Create Pie Chart\n",
    "#create variables\n",
    "labels = [\"Urban\", \"Suburban\", \"Rural\"]\n",
    "\n",
    "colors = [\"coral\", \"skyblue\", \"gold\"]\n",
    "explode = (0,.1,0)\n",
    "autopct = '%1.1f%%'\n",
    "\n",
    "#Plot\n",
    "plt.pie(fare_percents, explode=explode, labels=labels, colors=colors, startangle=150, shadow=True, autopct=\"%1.1f%%\")\n",
    "plt.title(\"% of Total Fares by City Type\")\n",
    "\n",
    "# Save Figure\n",
    "plt.savefig(\"../pyber_data/Fare_Pie.png\")\n"
   ]
  },
  {
   "cell_type": "code",
   "execution_count": 243,
   "metadata": {},
   "outputs": [],
   "source": [
    "# Show Figure\n",
    "plt.show()"
   ]
  },
  {
   "cell_type": "markdown",
   "metadata": {},
   "source": [
    "## Total Rides by City Type"
   ]
  },
  {
   "cell_type": "code",
   "execution_count": 250,
   "metadata": {},
   "outputs": [
    {
     "data": {
      "image/png": "[encoded data removed]",
      "text/plain": [
       "<Figure size 432x288 with 1 Axes>"
      ]
     },
     "metadata": {},
     "output_type": "display_data"
    }
   ],
   "source": [
    "## Calculate Ride Percents\n",
    "#Calculate Total Rides\n",
    "total_rides = city_ridedf[\"ride_id\"].count()\n",
    "\n",
    "##Calculate percentage of total rides by city type\n",
    "rides_by_types = city_types.count().reset_index()\n",
    "indexed_type = rides_by_types.set_index(\"type\")\n",
    "\n",
    "#Calculate urban percentage\n",
    "rides_urban = indexed_type.loc[[\"Urban\"],[\"ride_id\"]]\n",
    "rides_urban_per = ((rides_urban[\"ride_id\"])/(total_rides)*100)\n",
    "\n",
    "#Calculate suburban percentage\n",
    "rides_suburban = indexed_type.loc[[\"Suburban\"],[\"ride_id\"]]\n",
    "rides_suburban_per = ((rides_suburban[\"ride_id\"])/(total_rides)*100)\n",
    "\n",
    "#Calculate rural percentage\n",
    "rides_rural = indexed_type.loc[[\"Rural\"],[\"ride_id\"]]\n",
    "rides_rural_per = ((rides_rural[\"ride_id\"])/(total_rides)*100)\n",
    "\n",
    "ride_percents = 100 * city_ridedf.groupby([\"type\"]).count()[\"ride_id\"] / city_ridedf[\"ride_id\"].count()\n",
    "\n",
    "\n",
    "\n",
    "##Create Pie Chart\n",
    "#variables\n",
    "labels = [\"Urban\", \"Suburban\", \"Rural\"]\n",
    "\n",
    "colors = [\"coral\", \"skyblue\", \"gold\"]\n",
    "explode = (0,.1,0)\n",
    "autopct = '%1.1f%%'\n",
    "\n",
    "#Plot\n",
    "plt.pie(ride_percents, explode=explode, labels=labels, colors=colors, startangle=150, shadow=True, autopct=\"%1.1f%%\")\n",
    "plt.title(\"% of Total Rides by City Type\")\n",
    "\n",
    "# Save Figure\n",
    "plt.savefig(\"../pyber_data/Ride_Pie.png\")\n"
   ]
  },
  {
   "cell_type": "code",
   "execution_count": 245,
   "metadata": {},
   "outputs": [],
   "source": [
    "# Show Figure\n",
    "plt.show()"
   ]
  },
  {
   "cell_type": "markdown",
   "metadata": {},
   "source": [
    "## Total Drivers by City Type"
   ]
  },
  {
   "cell_type": "code",
   "execution_count": 246,
   "metadata": {},
   "outputs": [
    {
     "name": "stdout",
     "output_type": "stream",
     "text": [
      "2973\n"
     ]
    },
    {
     "data": {
      "image/png": "[encoded data removed]",
      "text/plain": [
       "<Figure size 432x288 with 1 Axes>"
      ]
     },
     "metadata": {},
     "output_type": "display_data"
    }
   ],
   "source": [
    "# Calculate Driver Percents\n",
    "#Calculate Total Drivers\n",
    "\n",
    "#total_drivers1 = city_ridedf[[\"city\", \"type\", \"driver_count\"]].drop_duplicates(\"city\")\n",
    "#total_drivers2 = total_drivers1.groupby([\"type\"])\n",
    "#total_drivers = driver_city_type[\"driver_count\"].sum()\n",
    "#print(total_drivers1)\n",
    "\n",
    "#urban_driver_df = driver_city_urban.sum()\n",
    "#suburban_driver_df = driver_city_suburban.sum()\n",
    "#rural_driver_df = driver_city_rural.sum()\n",
    "#print(urban_driver_df)\n",
    "\n",
    "\n",
    "total_drivers = city_data[\"driver_count\"].sum()\n",
    "print(total_drivers)\n",
    "\n",
    "##Calculate percentage of total rides by city type\n",
    "cities_by_type = city_data.groupby(\"type\")\n",
    "drivers_by_types = cities_by_type.sum().reset_index()\n",
    "indexed_type = drivers_by_types.set_index(\"type\")\n",
    "\n",
    "\n",
    "\n",
    "\n",
    "##Calculate percentage of total rides by city type\n",
    "#drivers_by_types = total_drivers.reset_index()\n",
    "#print(drivers_by_types)\n",
    "#indexed_type = drivers_by_types.set_index(\"type\")\n",
    "#print(indexed_type)\n",
    "#Calculate urban percentage\n",
    "drivers_urban = indexed_type.loc[[\"Urban\"],[\"driver_count\"]]\n",
    "drivers_urban_per = ((drivers_urban)[\"driver_count\"]/(total_drivers)*100)\n",
    "\n",
    "#Calculate suburban percentage\n",
    "drivers_suburban = indexed_type.loc[[\"Suburban\"],[\"driver_count\"]]\n",
    "drivers_suburban_per = ((drivers_suburban[\"driver_count\"])/(total_drivers)*100)\n",
    "\n",
    "#Calculate rural percentage\n",
    "drivers_rural = indexed_type.loc[[\"Rural\"],[\"driver_count\"]]\n",
    "drivers_rural_per = ((drivers_rural[\"driver_count\"])/(total_drivers)*100)\n",
    "driver_percents = 100 * city_data.groupby([\"type\"]).sum()/city_data[\"driver_count\"].sum()\n",
    "\n",
    "#print(driver_percents)\n",
    "\n",
    "driver_percents_ser = pd.Series(driver_percents[\"driver_count\"], index=driver_percents.index)\n",
    "type(driver_percents_ser)\n",
    "\n",
    "\n",
    "\n",
    "# Build Pie Charts\n",
    "\n",
    "#Create Pie Chart\n",
    "#variables\n",
    "\n",
    "labels = [\"Urban\", \"Suburban\", \"Rural\"]\n",
    "colors = [\"coral\", \"skyblue\", \"gold\"]\n",
    "explode = (0,.1,0)\n",
    "autopct = '%1.1f%%'\n",
    "\n",
    "#Plot\n",
    "plt.pie(driver_percents_ser, explode=explode, labels=labels, colors=colors, startangle=150, shadow=True, autopct=\"%1.1f%%\")\n",
    "plt.title(\"% of Total Drivers by City Type\")\n",
    "# Save Figure\n",
    "plt.savefig(\"../pyber_data/Driver_Pie.png\")\n"
   ]
  },
  {
   "cell_type": "code",
   "execution_count": 247,
   "metadata": {
    "scrolled": true
   },
   "outputs": [],
   "source": [
    "# Show Figure\n",
    "plt.show()"
   ]
  },
  {
   "cell_type": "code",
   "execution_count": null,
   "metadata": {},
   "outputs": [],
   "source": []
  },
  {
   "cell_type": "code",
   "execution_count": null,
   "metadata": {},
   "outputs": [],
   "source": []
  }
 ],
 "metadata": {
  "anaconda-cloud": {},
  "kernelspec": {
   "display_name": "PythonData",
   "language": "python",
   "name": "pythondata"
  },
  "language_info": {
   "codemirror_mode": {
    "name": "ipython",
    "version": 3
   },
   "file_extension": ".py",
   "mimetype": "text/x-python",
   "name": "python",
   "nbconvert_exporter": "python",
   "pygments_lexer": "ipython3",
   "version": "3.6.8"
  }
 },
 "nbformat": 4,
 "nbformat_minor": 2
}
